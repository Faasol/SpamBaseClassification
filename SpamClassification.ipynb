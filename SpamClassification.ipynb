{
 "cells": [
  {
   "cell_type": "markdown",
   "id": "5ac53fa6-8334-46c5-9649-e29cc5a843c6",
   "metadata": {},
   "source": [
    "# Classificazione di Spambase attraverso l'utilizzo di Random Forest\n",
    "\n",
    "Fasoli Marco, 5611520"
   ]
  },
  {
   "cell_type": "markdown",
   "id": "7af27e56-ffae-423a-bc17-08a514a0f77d",
   "metadata": {},
   "source": [
    "## Teoria: Random Forest"
   ]
  },
  {
   "cell_type": "markdown",
   "id": "0356d1d2-00c8-4506-8b7a-55249621fa02",
   "metadata": {},
   "source": [
    "Tra gli algoritmi di machine learning, il modello Random Forest rappresenta una delle soluzioni più affidabili per problemi di classificazione (ma anche di regressione). Si tratta di un metodo di apprendimento ensemble, che combina più laberi decisionali per ottenere un modello complessivo più stabile rispetto ai singoli alberi.\n",
    "\n",
    "Al posto di far affidamento ad un solo albero decisionale (che solitamente è soggetto all'overfitting), un Random Forest costruisce una foresta di alberi. Ciascun di questi alberi viene addestrato su un sottoinsieme casuale del dataset di training, selezionato mediante la tecnica del bootstrap (campionamento con ripetizione, alcune istanze possono essere visionate più volte mentre altre mai). Ogni nodo dell'albero considera solo un sottoinsieme casuale delle caratteristiche (colonne nel nostro caso) disponibili per decidere la partizione ottimale. Questa casualità introduce varietà tra gli alberi e riduce la correlazione tra di essi, migliorando la generalizzazione.\n",
    "\n",
    "L'accuratezza del modello viene calcolata confrontando le predizioni del modello con le etichette reali su un set di dati di test, ovvero ogni albero della foresta produce una predizione indipendente e la predizione finale per ogni istanza è ottenuta tramite voto di maggioranza (nel caso della classificazione)."
   ]
  },
  {
   "cell_type": "markdown",
   "id": "db8a513d-d252-4ed5-b0c8-3d4eed44c6da",
   "metadata": {},
   "source": [
    "## Pratica"
   ]
  },
  {
   "cell_type": "markdown",
   "id": "7459eb87-b777-411c-96bd-a2a007616d7a",
   "metadata": {},
   "source": [
    "A questo punto possiamo utilizzare questo modello di regressione al fine di classificare le mail e dire se sono spam oppure no. Per far ciò utilizzeremo il dataset offerto da UCI \"Spambase\"."
   ]
  },
  {
   "cell_type": "markdown",
   "id": "c4edfb70-4827-41d8-b2b6-3c66e2f7af20",
   "metadata": {},
   "source": [
    "### Imports"
   ]
  },
  {
   "cell_type": "code",
   "execution_count": 7,
   "id": "aa0b25ad-73d0-4a0d-b2c7-61c03e8150f9",
   "metadata": {},
   "outputs": [],
   "source": [
    "import pandas as pd\n",
    "import scipy.stats as stats\n",
    "from sklearn.model_selection import train_test_split\n",
    "from sklearn.linear_model import LogisticRegression\n",
    "from sklearn.ensemble import RandomForestClassifier\n",
    "from sklearn.metrics import classification_report, accuracy_score"
   ]
  },
  {
   "cell_type": "markdown",
   "id": "d5014143-e2d8-4f9d-a114-a355477140e5",
   "metadata": {},
   "source": [
    "### Esplorazione e pulizia dataset"
   ]
  },
  {
   "cell_type": "markdown",
   "id": "3092653f-3277-4705-8e0e-a0b8a0435f40",
   "metadata": {},
   "source": [
    "Dal momento che UCI spesso offre il dataset utilizzando il formato *.data*, dobbiamo \"convertirlo\" in csv nel seguente modo: "
   ]
  },
  {
   "cell_type": "code",
   "execution_count": 10,
   "id": "03a79fe0-3c20-4da9-8bdd-ed159cb2f065",
   "metadata": {},
   "outputs": [],
   "source": [
    "# Define the column names based on spambase.names\n",
    "column_names = [\n",
    "    'word_freq_make', 'word_freq_address', 'word_freq_all', 'word_freq_3d', 'word_freq_our',\n",
    "    'word_freq_over', 'word_freq_remove', 'word_freq_internet', 'word_freq_order', 'word_freq_mail',\n",
    "    'word_freq_receive', 'word_freq_will', 'word_freq_people', 'word_freq_report', 'word_freq_addresses',\n",
    "    'word_freq_free', 'word_freq_business', 'word_freq_email', 'word_freq_you', 'word_freq_credit',\n",
    "    'word_freq_your', 'word_freq_font', 'word_freq_000', 'word_freq_money', 'word_freq_hp',\n",
    "    'word_freq_hpl', 'word_freq_george', 'word_freq_650', 'word_freq_lab', 'word_freq_labs',\n",
    "    'word_freq_telnet', 'word_freq_857', 'word_freq_data', 'word_freq_415', 'word_freq_85',\n",
    "    'word_freq_technology', 'word_freq_1999', 'word_freq_parts', 'word_freq_pm', 'word_freq_direct',\n",
    "    'word_freq_cs', 'word_freq_meeting', 'word_freq_original', 'word_freq_project', 'word_freq_re',\n",
    "    'word_freq_edu', 'word_freq_table', 'word_freq_conference', 'char_freq_;', 'char_freq_(',\n",
    "    'char_freq_[', 'char_freq_!', 'char_freq_$', 'char_freq_#',\n",
    "    'capital_run_length_average', 'capital_run_length_longest', 'capital_run_length_total',\n",
    "    'spam'  # 1 for spam, 0 for non-spam\n",
    "]\n",
    "df = pd.read_csv('spambase.data', header=None, names=column_names)"
   ]
  },
  {
   "cell_type": "markdown",
   "id": "3b904303-6c05-403a-b738-0d9462f8fe9b",
   "metadata": {},
   "source": [
    "A questo punto visualizziamo le informazioni di questo dataset e mostriamo alcuni esempi di istanze del dataset."
   ]
  },
  {
   "cell_type": "code",
   "execution_count": 12,
   "id": "cd6dbc6a-fe66-4520-8b71-95ced3ed118f",
   "metadata": {},
   "outputs": [
    {
     "name": "stdout",
     "output_type": "stream",
     "text": [
      "<class 'pandas.core.frame.DataFrame'>\n",
      "RangeIndex: 4601 entries, 0 to 4600\n",
      "Data columns (total 58 columns):\n",
      " #   Column                      Non-Null Count  Dtype  \n",
      "---  ------                      --------------  -----  \n",
      " 0   word_freq_make              4601 non-null   float64\n",
      " 1   word_freq_address           4601 non-null   float64\n",
      " 2   word_freq_all               4601 non-null   float64\n",
      " 3   word_freq_3d                4601 non-null   float64\n",
      " 4   word_freq_our               4601 non-null   float64\n",
      " 5   word_freq_over              4601 non-null   float64\n",
      " 6   word_freq_remove            4601 non-null   float64\n",
      " 7   word_freq_internet          4601 non-null   float64\n",
      " 8   word_freq_order             4601 non-null   float64\n",
      " 9   word_freq_mail              4601 non-null   float64\n",
      " 10  word_freq_receive           4601 non-null   float64\n",
      " 11  word_freq_will              4601 non-null   float64\n",
      " 12  word_freq_people            4601 non-null   float64\n",
      " 13  word_freq_report            4601 non-null   float64\n",
      " 14  word_freq_addresses         4601 non-null   float64\n",
      " 15  word_freq_free              4601 non-null   float64\n",
      " 16  word_freq_business          4601 non-null   float64\n",
      " 17  word_freq_email             4601 non-null   float64\n",
      " 18  word_freq_you               4601 non-null   float64\n",
      " 19  word_freq_credit            4601 non-null   float64\n",
      " 20  word_freq_your              4601 non-null   float64\n",
      " 21  word_freq_font              4601 non-null   float64\n",
      " 22  word_freq_000               4601 non-null   float64\n",
      " 23  word_freq_money             4601 non-null   float64\n",
      " 24  word_freq_hp                4601 non-null   float64\n",
      " 25  word_freq_hpl               4601 non-null   float64\n",
      " 26  word_freq_george            4601 non-null   float64\n",
      " 27  word_freq_650               4601 non-null   float64\n",
      " 28  word_freq_lab               4601 non-null   float64\n",
      " 29  word_freq_labs              4601 non-null   float64\n",
      " 30  word_freq_telnet            4601 non-null   float64\n",
      " 31  word_freq_857               4601 non-null   float64\n",
      " 32  word_freq_data              4601 non-null   float64\n",
      " 33  word_freq_415               4601 non-null   float64\n",
      " 34  word_freq_85                4601 non-null   float64\n",
      " 35  word_freq_technology        4601 non-null   float64\n",
      " 36  word_freq_1999              4601 non-null   float64\n",
      " 37  word_freq_parts             4601 non-null   float64\n",
      " 38  word_freq_pm                4601 non-null   float64\n",
      " 39  word_freq_direct            4601 non-null   float64\n",
      " 40  word_freq_cs                4601 non-null   float64\n",
      " 41  word_freq_meeting           4601 non-null   float64\n",
      " 42  word_freq_original          4601 non-null   float64\n",
      " 43  word_freq_project           4601 non-null   float64\n",
      " 44  word_freq_re                4601 non-null   float64\n",
      " 45  word_freq_edu               4601 non-null   float64\n",
      " 46  word_freq_table             4601 non-null   float64\n",
      " 47  word_freq_conference        4601 non-null   float64\n",
      " 48  char_freq_;                 4601 non-null   float64\n",
      " 49  char_freq_(                 4601 non-null   float64\n",
      " 50  char_freq_[                 4601 non-null   float64\n",
      " 51  char_freq_!                 4601 non-null   float64\n",
      " 52  char_freq_$                 4601 non-null   float64\n",
      " 53  char_freq_#                 4601 non-null   float64\n",
      " 54  capital_run_length_average  4601 non-null   float64\n",
      " 55  capital_run_length_longest  4601 non-null   int64  \n",
      " 56  capital_run_length_total    4601 non-null   int64  \n",
      " 57  spam                        4601 non-null   int64  \n",
      "dtypes: float64(55), int64(3)\n",
      "memory usage: 2.0 MB\n"
     ]
    }
   ],
   "source": [
    "df.info()"
   ]
  },
  {
   "cell_type": "code",
   "execution_count": 13,
   "id": "6c5e6527-d6bc-4264-958e-9303a56f5059",
   "metadata": {},
   "outputs": [
    {
     "data": {
      "text/html": [
       "<div>\n",
       "<style scoped>\n",
       "    .dataframe tbody tr th:only-of-type {\n",
       "        vertical-align: middle;\n",
       "    }\n",
       "\n",
       "    .dataframe tbody tr th {\n",
       "        vertical-align: top;\n",
       "    }\n",
       "\n",
       "    .dataframe thead th {\n",
       "        text-align: right;\n",
       "    }\n",
       "</style>\n",
       "<table border=\"1\" class=\"dataframe\">\n",
       "  <thead>\n",
       "    <tr style=\"text-align: right;\">\n",
       "      <th></th>\n",
       "      <th>word_freq_make</th>\n",
       "      <th>word_freq_address</th>\n",
       "      <th>word_freq_all</th>\n",
       "      <th>word_freq_3d</th>\n",
       "      <th>word_freq_our</th>\n",
       "      <th>word_freq_over</th>\n",
       "      <th>word_freq_remove</th>\n",
       "      <th>word_freq_internet</th>\n",
       "      <th>word_freq_order</th>\n",
       "      <th>word_freq_mail</th>\n",
       "      <th>...</th>\n",
       "      <th>char_freq_;</th>\n",
       "      <th>char_freq_(</th>\n",
       "      <th>char_freq_[</th>\n",
       "      <th>char_freq_!</th>\n",
       "      <th>char_freq_$</th>\n",
       "      <th>char_freq_#</th>\n",
       "      <th>capital_run_length_average</th>\n",
       "      <th>capital_run_length_longest</th>\n",
       "      <th>capital_run_length_total</th>\n",
       "      <th>spam</th>\n",
       "    </tr>\n",
       "  </thead>\n",
       "  <tbody>\n",
       "    <tr>\n",
       "      <th>3689</th>\n",
       "      <td>0.0</td>\n",
       "      <td>0.0</td>\n",
       "      <td>0.00</td>\n",
       "      <td>0.0</td>\n",
       "      <td>0.00</td>\n",
       "      <td>0.0</td>\n",
       "      <td>0.0</td>\n",
       "      <td>0.00</td>\n",
       "      <td>0.0</td>\n",
       "      <td>0.0</td>\n",
       "      <td>...</td>\n",
       "      <td>0.000</td>\n",
       "      <td>0.000</td>\n",
       "      <td>0.0</td>\n",
       "      <td>0.000</td>\n",
       "      <td>0.00</td>\n",
       "      <td>0.000</td>\n",
       "      <td>2.000</td>\n",
       "      <td>4</td>\n",
       "      <td>6</td>\n",
       "      <td>0</td>\n",
       "    </tr>\n",
       "    <tr>\n",
       "      <th>4125</th>\n",
       "      <td>0.0</td>\n",
       "      <td>0.0</td>\n",
       "      <td>2.04</td>\n",
       "      <td>0.0</td>\n",
       "      <td>0.00</td>\n",
       "      <td>0.0</td>\n",
       "      <td>0.0</td>\n",
       "      <td>0.00</td>\n",
       "      <td>0.0</td>\n",
       "      <td>0.0</td>\n",
       "      <td>...</td>\n",
       "      <td>0.226</td>\n",
       "      <td>0.000</td>\n",
       "      <td>0.0</td>\n",
       "      <td>0.000</td>\n",
       "      <td>0.00</td>\n",
       "      <td>0.000</td>\n",
       "      <td>1.000</td>\n",
       "      <td>1</td>\n",
       "      <td>8</td>\n",
       "      <td>0</td>\n",
       "    </tr>\n",
       "    <tr>\n",
       "      <th>392</th>\n",
       "      <td>0.0</td>\n",
       "      <td>0.0</td>\n",
       "      <td>0.59</td>\n",
       "      <td>0.0</td>\n",
       "      <td>0.59</td>\n",
       "      <td>0.0</td>\n",
       "      <td>0.0</td>\n",
       "      <td>0.59</td>\n",
       "      <td>0.0</td>\n",
       "      <td>0.0</td>\n",
       "      <td>...</td>\n",
       "      <td>0.000</td>\n",
       "      <td>0.105</td>\n",
       "      <td>0.0</td>\n",
       "      <td>0.105</td>\n",
       "      <td>0.42</td>\n",
       "      <td>0.000</td>\n",
       "      <td>3.428</td>\n",
       "      <td>12</td>\n",
       "      <td>72</td>\n",
       "      <td>1</td>\n",
       "    </tr>\n",
       "    <tr>\n",
       "      <th>3157</th>\n",
       "      <td>0.0</td>\n",
       "      <td>0.0</td>\n",
       "      <td>0.00</td>\n",
       "      <td>0.0</td>\n",
       "      <td>0.00</td>\n",
       "      <td>0.0</td>\n",
       "      <td>0.0</td>\n",
       "      <td>0.00</td>\n",
       "      <td>0.0</td>\n",
       "      <td>0.0</td>\n",
       "      <td>...</td>\n",
       "      <td>0.000</td>\n",
       "      <td>0.536</td>\n",
       "      <td>0.0</td>\n",
       "      <td>0.000</td>\n",
       "      <td>0.00</td>\n",
       "      <td>0.268</td>\n",
       "      <td>2.529</td>\n",
       "      <td>11</td>\n",
       "      <td>43</td>\n",
       "      <td>0</td>\n",
       "    </tr>\n",
       "    <tr>\n",
       "      <th>22</th>\n",
       "      <td>0.0</td>\n",
       "      <td>0.0</td>\n",
       "      <td>0.00</td>\n",
       "      <td>0.0</td>\n",
       "      <td>2.94</td>\n",
       "      <td>0.0</td>\n",
       "      <td>0.0</td>\n",
       "      <td>0.00</td>\n",
       "      <td>0.0</td>\n",
       "      <td>0.0</td>\n",
       "      <td>...</td>\n",
       "      <td>0.404</td>\n",
       "      <td>0.404</td>\n",
       "      <td>0.0</td>\n",
       "      <td>0.809</td>\n",
       "      <td>0.00</td>\n",
       "      <td>0.000</td>\n",
       "      <td>4.857</td>\n",
       "      <td>12</td>\n",
       "      <td>34</td>\n",
       "      <td>1</td>\n",
       "    </tr>\n",
       "  </tbody>\n",
       "</table>\n",
       "<p>5 rows × 58 columns</p>\n",
       "</div>"
      ],
      "text/plain": [
       "      word_freq_make  word_freq_address  word_freq_all  word_freq_3d  \\\n",
       "3689             0.0                0.0           0.00           0.0   \n",
       "4125             0.0                0.0           2.04           0.0   \n",
       "392              0.0                0.0           0.59           0.0   \n",
       "3157             0.0                0.0           0.00           0.0   \n",
       "22               0.0                0.0           0.00           0.0   \n",
       "\n",
       "      word_freq_our  word_freq_over  word_freq_remove  word_freq_internet  \\\n",
       "3689           0.00             0.0               0.0                0.00   \n",
       "4125           0.00             0.0               0.0                0.00   \n",
       "392            0.59             0.0               0.0                0.59   \n",
       "3157           0.00             0.0               0.0                0.00   \n",
       "22             2.94             0.0               0.0                0.00   \n",
       "\n",
       "      word_freq_order  word_freq_mail  ...  char_freq_;  char_freq_(  \\\n",
       "3689              0.0             0.0  ...        0.000        0.000   \n",
       "4125              0.0             0.0  ...        0.226        0.000   \n",
       "392               0.0             0.0  ...        0.000        0.105   \n",
       "3157              0.0             0.0  ...        0.000        0.536   \n",
       "22                0.0             0.0  ...        0.404        0.404   \n",
       "\n",
       "      char_freq_[  char_freq_!  char_freq_$  char_freq_#  \\\n",
       "3689          0.0        0.000         0.00        0.000   \n",
       "4125          0.0        0.000         0.00        0.000   \n",
       "392           0.0        0.105         0.42        0.000   \n",
       "3157          0.0        0.000         0.00        0.268   \n",
       "22            0.0        0.809         0.00        0.000   \n",
       "\n",
       "      capital_run_length_average  capital_run_length_longest  \\\n",
       "3689                       2.000                           4   \n",
       "4125                       1.000                           1   \n",
       "392                        3.428                          12   \n",
       "3157                       2.529                          11   \n",
       "22                         4.857                          12   \n",
       "\n",
       "      capital_run_length_total  spam  \n",
       "3689                         6     0  \n",
       "4125                         8     0  \n",
       "392                         72     1  \n",
       "3157                        43     0  \n",
       "22                          34     1  \n",
       "\n",
       "[5 rows x 58 columns]"
      ]
     },
     "execution_count": 13,
     "metadata": {},
     "output_type": "execute_result"
    }
   ],
   "source": [
    "df.sample(n = 5)"
   ]
  },
  {
   "cell_type": "markdown",
   "id": "a523a2af-6e86-42a6-a3e8-b76d7344573a",
   "metadata": {},
   "source": [
    "Adesso cerchiamo se esistono istanze con valori nulli o valori non nel dominio (i.e. numeri negativi)."
   ]
  },
  {
   "cell_type": "code",
   "execution_count": 15,
   "id": "07bae726-4853-4345-84af-cfaf7a075e31",
   "metadata": {},
   "outputs": [
    {
     "name": "stdout",
     "output_type": "stream",
     "text": [
      "Number of duplicate rows: 391\n"
     ]
    }
   ],
   "source": [
    "duplicated_rows = df.duplicated()\n",
    "num_duplicate_rows = sum(duplicated_rows)\n",
    "print(f\"Number of duplicate rows: {num_duplicate_rows}\")"
   ]
  },
  {
   "cell_type": "code",
   "execution_count": 16,
   "id": "2b1d4d32-0b4f-4a32-9554-0fa88b17eac6",
   "metadata": {},
   "outputs": [
    {
     "data": {
      "text/plain": [
       "word_freq_make                0\n",
       "word_freq_address             0\n",
       "word_freq_all                 0\n",
       "word_freq_3d                  0\n",
       "word_freq_our                 0\n",
       "word_freq_over                0\n",
       "word_freq_remove              0\n",
       "word_freq_internet            0\n",
       "word_freq_order               0\n",
       "word_freq_mail                0\n",
       "word_freq_receive             0\n",
       "word_freq_will                0\n",
       "word_freq_people              0\n",
       "word_freq_report              0\n",
       "word_freq_addresses           0\n",
       "word_freq_free                0\n",
       "word_freq_business            0\n",
       "word_freq_email               0\n",
       "word_freq_you                 0\n",
       "word_freq_credit              0\n",
       "word_freq_your                0\n",
       "word_freq_font                0\n",
       "word_freq_000                 0\n",
       "word_freq_money               0\n",
       "word_freq_hp                  0\n",
       "word_freq_hpl                 0\n",
       "word_freq_george              0\n",
       "word_freq_650                 0\n",
       "word_freq_lab                 0\n",
       "word_freq_labs                0\n",
       "word_freq_telnet              0\n",
       "word_freq_857                 0\n",
       "word_freq_data                0\n",
       "word_freq_415                 0\n",
       "word_freq_85                  0\n",
       "word_freq_technology          0\n",
       "word_freq_1999                0\n",
       "word_freq_parts               0\n",
       "word_freq_pm                  0\n",
       "word_freq_direct              0\n",
       "word_freq_cs                  0\n",
       "word_freq_meeting             0\n",
       "word_freq_original            0\n",
       "word_freq_project             0\n",
       "word_freq_re                  0\n",
       "word_freq_edu                 0\n",
       "word_freq_table               0\n",
       "word_freq_conference          0\n",
       "char_freq_;                   0\n",
       "char_freq_(                   0\n",
       "char_freq_[                   0\n",
       "char_freq_!                   0\n",
       "char_freq_$                   0\n",
       "char_freq_#                   0\n",
       "capital_run_length_average    0\n",
       "capital_run_length_longest    0\n",
       "capital_run_length_total      0\n",
       "spam                          0\n",
       "dtype: int64"
      ]
     },
     "execution_count": 16,
     "metadata": {},
     "output_type": "execute_result"
    }
   ],
   "source": [
    "numerical_cols = df.select_dtypes(include='number').columns\n",
    "(df[numerical_cols] < 0).sum()"
   ]
  },
  {
   "cell_type": "markdown",
   "id": "d3580c59-1408-4c53-9797-42210e2543a0",
   "metadata": {},
   "source": [
    "Dal momento che vi sono istanze duplicate, procediamo ad eliminare queste righe identiche."
   ]
  },
  {
   "cell_type": "code",
   "execution_count": 18,
   "id": "a9208f6f-56f7-4e13-92b7-15b4bbba7a75",
   "metadata": {},
   "outputs": [],
   "source": [
    "df = df.drop_duplicates()"
   ]
  },
  {
   "cell_type": "markdown",
   "id": "cabe441b-c6ea-4b0e-a0ba-18edb64f93e2",
   "metadata": {},
   "source": [
    "Leggendo la documentazione di questo dataset, possiamo osservare come vi sono due caratteristiche che garantiscono che una mail non sia spam. Queste due caratteristiche sono: valore di word_freq_george > 0 e valore di word_freq_650 > 0, pertanto procediamo a impostare spam a 0 per queste mail."
   ]
  },
  {
   "cell_type": "code",
   "execution_count": 20,
   "id": "7278eef1-f503-4261-b824-7c1e2b7a6d46",
   "metadata": {},
   "outputs": [],
   "source": [
    "df.loc[(df['word_freq_george'] > 0) | (df['word_freq_650'] > 0), 'spam'] = 0"
   ]
  },
  {
   "cell_type": "markdown",
   "id": "30469a73-3842-450d-b816-2a8f6aff052c",
   "metadata": {},
   "source": [
    "## Modello predittivo"
   ]
  },
  {
   "cell_type": "markdown",
   "id": "80f3ae92-31ce-48d1-9331-7172ae761d7b",
   "metadata": {},
   "source": [
    "A questo punto possiamo definire il nostro modello che categorizzerà le mail di questo dataset. Procediamo a creare i dataset per il tranining e per il test."
   ]
  },
  {
   "cell_type": "code",
   "execution_count": 23,
   "id": "9de43cee-bef3-454a-ad1b-61bc9d636cd0",
   "metadata": {},
   "outputs": [],
   "source": [
    "X = df.drop('spam', axis=1)\n",
    "y = df['spam']"
   ]
  },
  {
   "cell_type": "code",
   "execution_count": 24,
   "id": "93c2604c-f951-41ef-9eb1-8ddf8606fee2",
   "metadata": {},
   "outputs": [],
   "source": [
    "X_train, X_test, y_train, y_test = train_test_split(X, y, test_size=0.3, random_state=42)"
   ]
  },
  {
   "cell_type": "code",
   "execution_count": 25,
   "id": "8ebb956c-b2ce-4511-aa0e-0678f96b4bdb",
   "metadata": {},
   "outputs": [
    {
     "data": {
      "text/html": [
       "<style>#sk-container-id-1 {color: black;}#sk-container-id-1 pre{padding: 0;}#sk-container-id-1 div.sk-toggleable {background-color: white;}#sk-container-id-1 label.sk-toggleable__label {cursor: pointer;display: block;width: 100%;margin-bottom: 0;padding: 0.3em;box-sizing: border-box;text-align: center;}#sk-container-id-1 label.sk-toggleable__label-arrow:before {content: \"▸\";float: left;margin-right: 0.25em;color: #696969;}#sk-container-id-1 label.sk-toggleable__label-arrow:hover:before {color: black;}#sk-container-id-1 div.sk-estimator:hover label.sk-toggleable__label-arrow:before {color: black;}#sk-container-id-1 div.sk-toggleable__content {max-height: 0;max-width: 0;overflow: hidden;text-align: left;background-color: #f0f8ff;}#sk-container-id-1 div.sk-toggleable__content pre {margin: 0.2em;color: black;border-radius: 0.25em;background-color: #f0f8ff;}#sk-container-id-1 input.sk-toggleable__control:checked~div.sk-toggleable__content {max-height: 200px;max-width: 100%;overflow: auto;}#sk-container-id-1 input.sk-toggleable__control:checked~label.sk-toggleable__label-arrow:before {content: \"▾\";}#sk-container-id-1 div.sk-estimator input.sk-toggleable__control:checked~label.sk-toggleable__label {background-color: #d4ebff;}#sk-container-id-1 div.sk-label input.sk-toggleable__control:checked~label.sk-toggleable__label {background-color: #d4ebff;}#sk-container-id-1 input.sk-hidden--visually {border: 0;clip: rect(1px 1px 1px 1px);clip: rect(1px, 1px, 1px, 1px);height: 1px;margin: -1px;overflow: hidden;padding: 0;position: absolute;width: 1px;}#sk-container-id-1 div.sk-estimator {font-family: monospace;background-color: #f0f8ff;border: 1px dotted black;border-radius: 0.25em;box-sizing: border-box;margin-bottom: 0.5em;}#sk-container-id-1 div.sk-estimator:hover {background-color: #d4ebff;}#sk-container-id-1 div.sk-parallel-item::after {content: \"\";width: 100%;border-bottom: 1px solid gray;flex-grow: 1;}#sk-container-id-1 div.sk-label:hover label.sk-toggleable__label {background-color: #d4ebff;}#sk-container-id-1 div.sk-serial::before {content: \"\";position: absolute;border-left: 1px solid gray;box-sizing: border-box;top: 0;bottom: 0;left: 50%;z-index: 0;}#sk-container-id-1 div.sk-serial {display: flex;flex-direction: column;align-items: center;background-color: white;padding-right: 0.2em;padding-left: 0.2em;position: relative;}#sk-container-id-1 div.sk-item {position: relative;z-index: 1;}#sk-container-id-1 div.sk-parallel {display: flex;align-items: stretch;justify-content: center;background-color: white;position: relative;}#sk-container-id-1 div.sk-item::before, #sk-container-id-1 div.sk-parallel-item::before {content: \"\";position: absolute;border-left: 1px solid gray;box-sizing: border-box;top: 0;bottom: 0;left: 50%;z-index: -1;}#sk-container-id-1 div.sk-parallel-item {display: flex;flex-direction: column;z-index: 1;position: relative;background-color: white;}#sk-container-id-1 div.sk-parallel-item:first-child::after {align-self: flex-end;width: 50%;}#sk-container-id-1 div.sk-parallel-item:last-child::after {align-self: flex-start;width: 50%;}#sk-container-id-1 div.sk-parallel-item:only-child::after {width: 0;}#sk-container-id-1 div.sk-dashed-wrapped {border: 1px dashed gray;margin: 0 0.4em 0.5em 0.4em;box-sizing: border-box;padding-bottom: 0.4em;background-color: white;}#sk-container-id-1 div.sk-label label {font-family: monospace;font-weight: bold;display: inline-block;line-height: 1.2em;}#sk-container-id-1 div.sk-label-container {text-align: center;}#sk-container-id-1 div.sk-container {/* jupyter's `normalize.less` sets `[hidden] { display: none; }` but bootstrap.min.css set `[hidden] { display: none !important; }` so we also need the `!important` here to be able to override the default hidden behavior on the sphinx rendered scikit-learn.org. See: https://github.com/scikit-learn/scikit-learn/issues/21755 */display: inline-block !important;position: relative;}#sk-container-id-1 div.sk-text-repr-fallback {display: none;}</style><div id=\"sk-container-id-1\" class=\"sk-top-container\"><div class=\"sk-text-repr-fallback\"><pre>RandomForestClassifier(random_state=42)</pre><b>In a Jupyter environment, please rerun this cell to show the HTML representation or trust the notebook. <br />On GitHub, the HTML representation is unable to render, please try loading this page with nbviewer.org.</b></div><div class=\"sk-container\" hidden><div class=\"sk-item\"><div class=\"sk-estimator sk-toggleable\"><input class=\"sk-toggleable__control sk-hidden--visually\" id=\"sk-estimator-id-1\" type=\"checkbox\" checked><label for=\"sk-estimator-id-1\" class=\"sk-toggleable__label sk-toggleable__label-arrow\">RandomForestClassifier</label><div class=\"sk-toggleable__content\"><pre>RandomForestClassifier(random_state=42)</pre></div></div></div></div></div>"
      ],
      "text/plain": [
       "RandomForestClassifier(random_state=42)"
      ]
     },
     "execution_count": 25,
     "metadata": {},
     "output_type": "execute_result"
    }
   ],
   "source": [
    "model = RandomForestClassifier(n_estimators=100, random_state=42)\n",
    "model.fit(X_train, y_train)"
   ]
  },
  {
   "cell_type": "markdown",
   "id": "3f121890-6e05-4fe8-b7b7-00e49c603fe2",
   "metadata": {},
   "source": [
    "Adesso passiamo alla fase di testing, ottenendo percentuali sulla accuratezza di questo modello."
   ]
  },
  {
   "cell_type": "code",
   "execution_count": 27,
   "id": "774b8dca-5e16-4c5b-ac07-ef3f308a4db8",
   "metadata": {},
   "outputs": [],
   "source": [
    "y_pred_rf = model.predict(X_test)"
   ]
  },
  {
   "cell_type": "code",
   "execution_count": 28,
   "id": "ce1d6024-174f-454a-ac8a-913b821ef9ae",
   "metadata": {},
   "outputs": [
    {
     "name": "stdout",
     "output_type": "stream",
     "text": [
      "Accuracy: 0.9422011084718923\n",
      "\n",
      "Classification Report:\n",
      "               precision    recall  f1-score   support\n",
      "\n",
      "           0       0.94      0.96      0.95       750\n",
      "           1       0.94      0.92      0.93       513\n",
      "\n",
      "    accuracy                           0.94      1263\n",
      "   macro avg       0.94      0.94      0.94      1263\n",
      "weighted avg       0.94      0.94      0.94      1263\n",
      "\n"
     ]
    }
   ],
   "source": [
    "print(\"Accuracy:\", accuracy_score(y_test, y_pred_rf))\n",
    "print(\"\\nClassification Report:\\n\", classification_report(y_test, y_pred_rf))"
   ]
  },
  {
   "cell_type": "markdown",
   "id": "a26d718b-dd0e-47ed-9ad8-7f213d0fa389",
   "metadata": {},
   "source": [
    "Osserviamo che otteniamo una precisione del 94% della classificazione delle mail. Inoltre, utilizziamo il classification report per un analisi più dettagliata. Questa tabella è formata da:\n",
    "- Precision: di tutte le email che il modello che ha classificato come appartenenti ad una determinata classe, quante lo erano veramente?\n",
    "- Recall: di tutte le email che erano veramente di questa classe, quante il modello è riuscito ad identificare correttamente?\n",
    "- F1-score: è la media armonica della precisione e della recall.\n",
    "- Support: è il numero di email di quella classe nel set di dati su cui è stato calcolato il report.\n",
    "\n",
    "Invece le righe:\n",
    "- Accuracy: è la percentuale totale di email classificate correttamente su tutte le email nel set di test.\n",
    "- Macro Avg: è la media semplice (non pesata) della precisione, recall e F1-score per tutte le classi.\n",
    "- Weighted Avg: è la media della precisione, recall e F1-score per tutte le classi, pesata in base al support di ogni classe.\n",
    "\n",
    "In generale possiamo osservare un'alta precisione di classificazione delle email di questo dataset. Come ultimo passo osserviamo alcune delle feature utilizzate dagli alberi che costituiscono la foresta utilizzata."
   ]
  },
  {
   "cell_type": "code",
   "execution_count": 30,
   "id": "bcd6060d-4c77-4a1b-a964-a6500c981efd",
   "metadata": {},
   "outputs": [
    {
     "name": "stdout",
     "output_type": "stream",
     "text": [
      "\n",
      "Feature Importances:\n",
      "char_freq_!                   0.125875\n",
      "char_freq_$                   0.091839\n",
      "word_freq_remove              0.089766\n",
      "capital_run_length_average    0.065329\n",
      "word_freq_free                0.064630\n",
      "capital_run_length_longest    0.051251\n",
      "word_freq_your                0.051214\n",
      "capital_run_length_total      0.046254\n",
      "word_freq_hp                  0.036647\n",
      "word_freq_our                 0.030774\n",
      "word_freq_george              0.027579\n",
      "word_freq_000                 0.026431\n",
      "word_freq_you                 0.025914\n",
      "word_freq_internet            0.024171\n",
      "word_freq_money               0.023177\n",
      "word_freq_edu                 0.019256\n",
      "word_freq_1999                0.014434\n",
      "word_freq_all                 0.014423\n",
      "word_freq_hpl                 0.013448\n",
      "word_freq_business            0.012335\n",
      "char_freq_(                   0.011275\n",
      "word_freq_will                0.010696\n",
      "word_freq_over                0.009920\n",
      "word_freq_email               0.008701\n",
      "word_freq_receive             0.008488\n",
      "word_freq_re                  0.008322\n",
      "word_freq_650                 0.007769\n",
      "word_freq_mail                0.006725\n",
      "word_freq_make                0.005241\n",
      "word_freq_meeting             0.005167\n",
      "word_freq_credit              0.005126\n",
      "word_freq_address             0.004619\n",
      "word_freq_order               0.003961\n",
      "word_freq_labs                0.003861\n",
      "word_freq_people              0.003697\n",
      "char_freq_;                   0.003461\n",
      "char_freq_#                   0.003352\n",
      "word_freq_technology          0.003348\n",
      "word_freq_pm                  0.003204\n",
      "word_freq_font                0.003016\n",
      "word_freq_85                  0.002765\n",
      "char_freq_[                   0.002682\n",
      "word_freq_data                0.002610\n",
      "word_freq_project             0.002275\n",
      "word_freq_lab                 0.002111\n",
      "word_freq_original            0.001852\n",
      "word_freq_addresses           0.001681\n",
      "word_freq_telnet              0.001519\n",
      "word_freq_report              0.001511\n",
      "word_freq_direct              0.001176\n",
      "word_freq_3d                  0.001126\n",
      "word_freq_cs                  0.001046\n",
      "word_freq_conference          0.000942\n",
      "word_freq_415                 0.000890\n",
      "word_freq_857                 0.000541\n",
      "word_freq_parts               0.000324\n",
      "word_freq_table               0.000254\n",
      "dtype: float64\n"
     ]
    }
   ],
   "source": [
    "print(\"\\nFeature Importances:\")\n",
    "print(pd.Series(model.feature_importances_, index=X.columns).sort_values(ascending=False))"
   ]
  },
  {
   "cell_type": "markdown",
   "id": "446e95de-2c3b-4e54-aea7-73bfaa1a3ecd",
   "metadata": {},
   "source": [
    "Possiamo osservare che le colonne più importanti per il modello sono quelle relative alle occorrenze dei simboli \"!\" e \"$\", come si poteva predire."
   ]
  },
  {
   "cell_type": "markdown",
   "id": "1b49cdfc-f3c6-4fe7-b2c9-6762ba6589af",
   "metadata": {},
   "source": [
    "### Confronto con Regressione Logistica"
   ]
  },
  {
   "cell_type": "markdown",
   "id": "f60d84af-37b7-4bc6-9eb8-66edb6c66f14",
   "metadata": {},
   "source": [
    "In questa sezione confronteremo il Random Forest model con un modello di Regressione Logistica. Utilizzeremo lo stesso split del dataset per un confronto più significativo."
   ]
  },
  {
   "cell_type": "code",
   "execution_count": 34,
   "id": "7d314a83-0b2d-41a7-b09f-fa961b9d65c5",
   "metadata": {},
   "outputs": [
    {
     "data": {
      "text/html": [
       "<style>#sk-container-id-2 {color: black;}#sk-container-id-2 pre{padding: 0;}#sk-container-id-2 div.sk-toggleable {background-color: white;}#sk-container-id-2 label.sk-toggleable__label {cursor: pointer;display: block;width: 100%;margin-bottom: 0;padding: 0.3em;box-sizing: border-box;text-align: center;}#sk-container-id-2 label.sk-toggleable__label-arrow:before {content: \"▸\";float: left;margin-right: 0.25em;color: #696969;}#sk-container-id-2 label.sk-toggleable__label-arrow:hover:before {color: black;}#sk-container-id-2 div.sk-estimator:hover label.sk-toggleable__label-arrow:before {color: black;}#sk-container-id-2 div.sk-toggleable__content {max-height: 0;max-width: 0;overflow: hidden;text-align: left;background-color: #f0f8ff;}#sk-container-id-2 div.sk-toggleable__content pre {margin: 0.2em;color: black;border-radius: 0.25em;background-color: #f0f8ff;}#sk-container-id-2 input.sk-toggleable__control:checked~div.sk-toggleable__content {max-height: 200px;max-width: 100%;overflow: auto;}#sk-container-id-2 input.sk-toggleable__control:checked~label.sk-toggleable__label-arrow:before {content: \"▾\";}#sk-container-id-2 div.sk-estimator input.sk-toggleable__control:checked~label.sk-toggleable__label {background-color: #d4ebff;}#sk-container-id-2 div.sk-label input.sk-toggleable__control:checked~label.sk-toggleable__label {background-color: #d4ebff;}#sk-container-id-2 input.sk-hidden--visually {border: 0;clip: rect(1px 1px 1px 1px);clip: rect(1px, 1px, 1px, 1px);height: 1px;margin: -1px;overflow: hidden;padding: 0;position: absolute;width: 1px;}#sk-container-id-2 div.sk-estimator {font-family: monospace;background-color: #f0f8ff;border: 1px dotted black;border-radius: 0.25em;box-sizing: border-box;margin-bottom: 0.5em;}#sk-container-id-2 div.sk-estimator:hover {background-color: #d4ebff;}#sk-container-id-2 div.sk-parallel-item::after {content: \"\";width: 100%;border-bottom: 1px solid gray;flex-grow: 1;}#sk-container-id-2 div.sk-label:hover label.sk-toggleable__label {background-color: #d4ebff;}#sk-container-id-2 div.sk-serial::before {content: \"\";position: absolute;border-left: 1px solid gray;box-sizing: border-box;top: 0;bottom: 0;left: 50%;z-index: 0;}#sk-container-id-2 div.sk-serial {display: flex;flex-direction: column;align-items: center;background-color: white;padding-right: 0.2em;padding-left: 0.2em;position: relative;}#sk-container-id-2 div.sk-item {position: relative;z-index: 1;}#sk-container-id-2 div.sk-parallel {display: flex;align-items: stretch;justify-content: center;background-color: white;position: relative;}#sk-container-id-2 div.sk-item::before, #sk-container-id-2 div.sk-parallel-item::before {content: \"\";position: absolute;border-left: 1px solid gray;box-sizing: border-box;top: 0;bottom: 0;left: 50%;z-index: -1;}#sk-container-id-2 div.sk-parallel-item {display: flex;flex-direction: column;z-index: 1;position: relative;background-color: white;}#sk-container-id-2 div.sk-parallel-item:first-child::after {align-self: flex-end;width: 50%;}#sk-container-id-2 div.sk-parallel-item:last-child::after {align-self: flex-start;width: 50%;}#sk-container-id-2 div.sk-parallel-item:only-child::after {width: 0;}#sk-container-id-2 div.sk-dashed-wrapped {border: 1px dashed gray;margin: 0 0.4em 0.5em 0.4em;box-sizing: border-box;padding-bottom: 0.4em;background-color: white;}#sk-container-id-2 div.sk-label label {font-family: monospace;font-weight: bold;display: inline-block;line-height: 1.2em;}#sk-container-id-2 div.sk-label-container {text-align: center;}#sk-container-id-2 div.sk-container {/* jupyter's `normalize.less` sets `[hidden] { display: none; }` but bootstrap.min.css set `[hidden] { display: none !important; }` so we also need the `!important` here to be able to override the default hidden behavior on the sphinx rendered scikit-learn.org. See: https://github.com/scikit-learn/scikit-learn/issues/21755 */display: inline-block !important;position: relative;}#sk-container-id-2 div.sk-text-repr-fallback {display: none;}</style><div id=\"sk-container-id-2\" class=\"sk-top-container\"><div class=\"sk-text-repr-fallback\"><pre>LogisticRegression(random_state=42, solver=&#x27;liblinear&#x27;)</pre><b>In a Jupyter environment, please rerun this cell to show the HTML representation or trust the notebook. <br />On GitHub, the HTML representation is unable to render, please try loading this page with nbviewer.org.</b></div><div class=\"sk-container\" hidden><div class=\"sk-item\"><div class=\"sk-estimator sk-toggleable\"><input class=\"sk-toggleable__control sk-hidden--visually\" id=\"sk-estimator-id-2\" type=\"checkbox\" checked><label for=\"sk-estimator-id-2\" class=\"sk-toggleable__label sk-toggleable__label-arrow\">LogisticRegression</label><div class=\"sk-toggleable__content\"><pre>LogisticRegression(random_state=42, solver=&#x27;liblinear&#x27;)</pre></div></div></div></div></div>"
      ],
      "text/plain": [
       "LogisticRegression(random_state=42, solver='liblinear')"
      ]
     },
     "execution_count": 34,
     "metadata": {},
     "output_type": "execute_result"
    }
   ],
   "source": [
    "model_lr = LogisticRegression(solver='liblinear', random_state=42)\n",
    "model_lr.fit(X_train, y_train)"
   ]
  },
  {
   "cell_type": "code",
   "execution_count": 35,
   "id": "9bd0d466-5708-417e-ae97-9eb416f97204",
   "metadata": {},
   "outputs": [],
   "source": [
    "y_pred_lr = model_lr.predict(X_test)"
   ]
  },
  {
   "cell_type": "markdown",
   "id": "cb6d6662-7624-4a7e-908c-0ffd98af1fc4",
   "metadata": {},
   "source": [
    "A questo punto confrontiamo l'accuratezza di questo modello:"
   ]
  },
  {
   "cell_type": "code",
   "execution_count": 37,
   "id": "db91be11-adca-4ebd-9f28-486d1ea12438",
   "metadata": {},
   "outputs": [
    {
     "name": "stdout",
     "output_type": "stream",
     "text": [
      "--- Logistic Regression Results ---\n",
      "Accuracy: 0.9239904988123515\n",
      "\n",
      "Classification Report:\n",
      "               precision    recall  f1-score   support\n",
      "\n",
      "           0       0.93      0.95      0.94       750\n",
      "           1       0.92      0.89      0.90       513\n",
      "\n",
      "    accuracy                           0.92      1263\n",
      "   macro avg       0.92      0.92      0.92      1263\n",
      "weighted avg       0.92      0.92      0.92      1263\n",
      "\n"
     ]
    }
   ],
   "source": [
    "print(\"--- Logistic Regression Results ---\")\n",
    "print(\"Accuracy:\", accuracy_score(y_test, y_pred_lr))\n",
    "print(\"\\nClassification Report:\\n\", classification_report(y_test, y_pred_lr))"
   ]
  },
  {
   "cell_type": "markdown",
   "id": "f9a0cf68-0acc-42d5-83b2-e43bd751555f",
   "metadata": {},
   "source": [
    "Infine confrontiamo i risultati dei due modelli:"
   ]
  },
  {
   "cell_type": "code",
   "execution_count": 39,
   "id": "8c312d59-bbe5-486d-bf33-865470b8b64e",
   "metadata": {},
   "outputs": [
    {
     "name": "stdout",
     "output_type": "stream",
     "text": [
      "\n",
      "--- Random Forest Results (from previous run) ---\n",
      "Accuracy: 0.9422011084718923\n",
      "\n",
      "Classification Report:\n",
      "               precision    recall  f1-score   support\n",
      "\n",
      "           0       0.94      0.96      0.95       750\n",
      "           1       0.94      0.92      0.93       513\n",
      "\n",
      "    accuracy                           0.94      1263\n",
      "   macro avg       0.94      0.94      0.94      1263\n",
      "weighted avg       0.94      0.94      0.94      1263\n",
      "\n"
     ]
    }
   ],
   "source": [
    "print(\"\\n--- Random Forest Results (from previous run) ---\")\n",
    "print(\"Accuracy:\", accuracy_score(y_test, y_pred_rf))\n",
    "print(\"\\nClassification Report:\\n\", classification_report(y_test, y_pred_rf))"
   ]
  },
  {
   "cell_type": "markdown",
   "id": "9891c703-fd0c-4555-8fb0-222f12d8bac7",
   "metadata": {},
   "source": [
    "Osservando che il Random Forest model è più preciso nella classificazione delle mail."
   ]
  },
  {
   "cell_type": "markdown",
   "id": "0bc722d9-00ed-48ba-996b-ebbce5e096f9",
   "metadata": {},
   "source": [
    "## Conclusioni"
   ]
  },
  {
   "cell_type": "markdown",
   "id": "0b511de2-fe57-48eb-966b-3c791d75b723",
   "metadata": {},
   "source": [
    "Il modello Random Forest tende ad essere più preciso rispetto alla Regressione Logistica in quanto:\n",
    "- Non-linearità vs Linearità: la regressione logistica è un modello lineare, pertanto modella la relazione tra le feature e la probabilità che un'istanza appartenga a una classe utilizzando una combinazione lineare pesata delle feature. Funziona in modo ottimo se le classi sono separabili in modo lineare nello spazio delle feature. Invece il Random Forest è un modello non-lineare, pertanto può creare superfici di decisione molto più complesse e frastagliate, in quanto ciascun albero decide basandosi su una serie di split sulle feature, che non sono vincolati a una relazione lineare.\n",
    "- Cattura di Iterazioni e Relazioni Complesse: la Regressione Logistica fatica a catturare autnomaticamente le interazioni complesse tra le feature o le relazioni non lineari tra una singola feature e la variabile target. Invece, il Random Forest cattura naturalemente interazioni e relazioni non lineari. Infatti, l'ensemble di molti alberi permette di combinare interazioni locali per creare un modello predittivo robusto e capace di mappare relazioni complesse."
   ]
  }
 ],
 "metadata": {
  "kernelspec": {
   "display_name": "Python 3 (ipykernel)",
   "language": "python",
   "name": "python3"
  },
  "language_info": {
   "codemirror_mode": {
    "name": "ipython",
    "version": 3
   },
   "file_extension": ".py",
   "mimetype": "text/x-python",
   "name": "python",
   "nbconvert_exporter": "python",
   "pygments_lexer": "ipython3",
   "version": "3.11.5"
  }
 },
 "nbformat": 4,
 "nbformat_minor": 5
}
